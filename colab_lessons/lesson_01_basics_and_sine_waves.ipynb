{
 "cells": [
  {
   "cell_type": "code",
   "execution_count": null,
   "id": "e9fc0744",
   "metadata": {},
   "outputs": [],
   "source": [
    "# 🛠️ 環境セットアップ\n",
    "\n",
    "# 共通ライブラリのインポート\n",
    "import sys\n",
    "import numpy as np\n",
    "import matplotlib.pyplot as plt\n",
    "from IPython.display import Audio, display\n",
    "import warnings\n",
    "warnings.filterwarnings('ignore')\n",
    "\n",
    "# Google Colab環境かどうかを判定\n",
    "try:\n",
    "    import google.colab\n",
    "    IN_COLAB = True\n",
    "    print(\"🔧 Google Colab環境で実行中...\")\n",
    "except ImportError:\n",
    "    IN_COLAB = False\n",
    "    print(\"🏠 ローカル環境で実行中\")\n",
    "\n",
    "# ライブラリのセットアップ\n",
    "if IN_COLAB:\n",
    "    print(\"🔧 Google Colab環境を設定中...\")\n",
    "    \n",
    "    # 必要なパッケージをインストール\n",
    "    !pip install japanize-matplotlib\n",
    "    \n",
    "    # GitHubからライブラリをクローン\n",
    "    !git clone https://github.com/ggszk/simple-audio-programming.git\n",
    "    \n",
    "    # パスを追加\n",
    "    sys.path.append('/content/simple-audio-programming')\n",
    "\n",
    "    # ライブラリ設定\n",
    "    import japanize_matplotlib\n",
    "    \n",
    "else:\n",
    "    print(\"🔧 ローカル環境を設定中...\")\n",
    "\n",
    "    # パスを追加\n",
    "    sys.path.append('..')\n",
    "    # poetryでのパッケージインストールは今後の課題\n",
    "\n",
    "    # 日本語フォント設定（Mac）\n",
    "    plt.rcParams['font.family'] = 'Meiryo'\n",
    "\n",
    "print(\"\\n🎵 Simple Audio Programming へようこそ！\")\n",
    "print(\"✅ セットアップ完了\")"
   ]
  },
  {
   "cell_type": "markdown",
   "id": "3b2beeba",
   "metadata": {},
   "source": [
    "# 音のプログラミング 第1回: 基本概念とサイン波\n",
    "\n",
    "**学習目標:**\n",
    "- 音とプログラミングの関係を理解する\n",
    "- サイン波の基本概念を学ぶ\n",
    "- 周波数と音程の関係を体験する\n",
    "- 最初の音を生成・再生する\n",
    "\n",
    "**所要時間:** 90分"
   ]
  },
  {
   "cell_type": "markdown",
   "id": "5bd05b8b",
   "metadata": {},
   "source": [
    "## 🛠️ 音声処理ヘルパー関数の定義\n",
    "\n",
    "音声再生と波形表示のためのヘルパー関数を定義します。"
   ]
  },
  {
   "cell_type": "code",
   "execution_count": null,
   "id": "30e44d8e",
   "metadata": {},
   "outputs": [],
   "source": [
    "# 音声再生用ヘルパー関数\n",
    "def play_sound(signal, sample_rate=44100, title=\"Audio\"):\n",
    "    \"\"\"\n",
    "    Colab/Jupyter環境で音声を再生するヘルパー関数\n",
    "    \n",
    "    Args:\n",
    "        signal: オーディオ信号（numpy配列）\n",
    "        sample_rate: サンプリングレート（Hz）\n",
    "        title: 表示用タイトル\n",
    "    \"\"\"\n",
    "    print(f\"🔊 {title} (サンプルレート: {sample_rate} Hz)\")\n",
    "    return Audio(signal, rate=sample_rate)\n",
    "\n",
    "def plot_waveform(signal, sample_rate=44100, duration=0.01, title=\"波形\"):\n",
    "    \"\"\"\n",
    "    波形を可視化するヘルパー関数\n",
    "    \n",
    "    Args:\n",
    "        signal: オーディオ信号\n",
    "        sample_rate: サンプリングレート\n",
    "        duration: 表示する時間長（秒）\n",
    "        title: グラフのタイトル\n",
    "    \"\"\"\n",
    "    time_samples = int(duration * sample_rate)\n",
    "    time_samples = min(time_samples, len(signal))\n",
    "    time_array = np.linspace(0, duration, time_samples)\n",
    "    \n",
    "    plt.figure(figsize=(12, 6))\n",
    "    plt.plot(time_array, signal[:time_samples], 'b-', linewidth=2)\n",
    "    plt.title(title, fontsize=16)\n",
    "    plt.xlabel('時間 (秒)', fontsize=12)\n",
    "    plt.ylabel('振幅', fontsize=12)\n",
    "    plt.grid(True, alpha=0.3)\n",
    "    plt.show()\n",
    "\n",
    "print(\"🛠️ ヘルパー関数を読み込みました\")"
   ]
  },
  {
   "cell_type": "markdown",
   "id": "d130a3a7",
   "metadata": {},
   "source": [
    "## 🎵 音とは何か？\n",
    "\n",
    "### 音の正体\n",
    "- 音は **空気の振動**\n",
    "- 振動が波として伝わる\n",
    "- **周波数**（1秒間の振動回数）で音程が決まる\n",
    "- **振幅**（振動の大きさ）で音量が決まる\n",
    "\n",
    "### サイン波\n",
    "最も基本的な音の波形は **サイン波（正弦波）**\n",
    "\n",
    "数式: `y = sin(2π × 周波数 × 時間)`"
   ]
  },
  {
   "cell_type": "markdown",
   "id": "70dcb797",
   "metadata": {},
   "source": [
    "## 🎯 実習1: 最初のサイン波を作ろう"
   ]
  },
  {
   "cell_type": "code",
   "execution_count": null,
   "id": "1c8fb525",
   "metadata": {},
   "outputs": [],
   "source": [
    "# 音のプログラミングライブラリをインポート\n",
    "from audio_lib.core import AudioConfig\n",
    "from audio_lib.synthesis import SineWave\n",
    "from audio_lib import save_audio  # メインモジュールからインポート\n",
    "\n",
    "# オーディオ設定\n",
    "config = AudioConfig(sample_rate=44100)  # CD品質\n",
    "\n",
    "# サイン波オシレーター（音を作る機械）\n",
    "sine_osc = SineWave(config)\n",
    "\n",
    "print(\"🎵 サイン波オシレーターの準備完了！\")"
   ]
  },
  {
   "cell_type": "code",
   "execution_count": null,
   "id": "1b4f0b81",
   "metadata": {},
   "outputs": [],
   "source": [
    "# 440Hz（ラ音）のサイン波を1秒間生成\n",
    "frequency = 440.0  # Hz（ヘルツ）\n",
    "duration = 1.0     # 秒\n",
    "\n",
    "# サイン波を生成\n",
    "signal = sine_osc.generate(frequency, duration)\n",
    "\n",
    "print(f\"✅ {frequency}Hzの音を{duration}秒分生成しました\")\n",
    "print(f\"データの長さ: {len(signal)} サンプル\")\n",
    "print(f\"最大振幅: {np.max(signal):.3f}\")\n",
    "print(f\"最小振幅: {np.min(signal):.3f}\")"
   ]
  },
  {
   "cell_type": "code",
   "execution_count": null,
   "id": "ccdf30f8",
   "metadata": {},
   "outputs": [],
   "source": [
    "# 波形を可視化してみよう\n",
    "# ヘルパー関数を使って最初の0.01秒分を表示\n",
    "plot_waveform(signal, config.sample_rate, duration=0.01, \n",
    "              title=f'{frequency}Hz サイン波の波形')\n",
    "\n",
    "print(\"📊 これがサイン波の形です！きれいな波になっていますね。\")"
   ]
  },
  {
   "cell_type": "code",
   "execution_count": null,
   "id": "da2b911a",
   "metadata": {},
   "outputs": [],
   "source": [
    "# 🔊 音を再生してみよう！\n",
    "audio_player = play_sound(signal, config.sample_rate, f\"{frequency}Hz サイン波\")\n",
    "display(audio_player)\n",
    "\n",
    "print(\"🎵 これが440Hz（ラ音）の純粋なサイン波です！\")\n",
    "print(\"楽器の音とは違って、とてもシンプルな音ですね。\")"
   ]
  },
  {
   "cell_type": "markdown",
   "id": "1ebc83c0",
   "metadata": {},
   "source": [
    "## 🎯 実習2: 周波数を変えて音程を体験しよう"
   ]
  },
  {
   "cell_type": "code",
   "execution_count": null,
   "id": "c840855d",
   "metadata": {},
   "outputs": [],
   "source": [
    "# 異なる周波数の音を作ってみよう\n",
    "frequencies = {\n",
    "    \"低い音 (220Hz)\": 220,\n",
    "    \"基準音 (440Hz)\": 440,\n",
    "    \"高い音 (880Hz)\": 880,\n",
    "    \"とても高い音 (1760Hz)\": 1760\n",
    "}\n",
    "\n",
    "duration = 1.5  # 少し長めに\n",
    "\n",
    "for name, freq in frequencies.items():\n",
    "    signal = sine_osc.generate(freq, duration)\n",
    "    audio_player = play_sound(signal, config.sample_rate, name)\n",
    "    display(audio_player)\n",
    "    \n",
    "print(\"\\n💡 気づいたこと:\")\n",
    "print(\"- 周波数が高いほど、音程が高くなる\")\n",
    "print(\"- 880Hzは440Hzの2倍 → 1オクターブ上の音\")\n",
    "print(\"- 1760Hzは440Hzの4倍 → 2オクターブ上の音\")"
   ]
  },
  {
   "cell_type": "markdown",
   "id": "8d545eb8",
   "metadata": {},
   "source": [
    "## 🎯 実習3: 音量を変えてみよう\n",
    "\n",
    "🚨 重要な注意点:\n",
    "* 📱 Colab/JupyterのAudioウィジェットは音量を自動正規化します\n",
    "* 🎧 そのため、下記の音は実際には同じ音量で聞こえます\n",
    "* 📁 真の音量差を確認するにはWAVファイル保存→ダウンロード→再生\n",
    "* ダウンロードは，ウィジェットから（右の3つの点→ダウンロード）ではなく，Colabのファイルブラウザ（画面の左側）からダウンロードしてください．"
   ]
  },
  {
   "cell_type": "code",
   "execution_count": null,
   "id": "b55550e8",
   "metadata": {},
   "outputs": [],
   "source": [
    "# 同じ周波数で音量を変えてみよう\n",
    "frequency = 440  # ラ音\n",
    "duration = 1.0\n",
    "\n",
    "volumes = {\n",
    "    \"とても小さい音 (0.1倍)\": 0.1,\n",
    "    \"小さい音 (0.3倍)\": 0.3,\n",
    "    \"普通の音 (1.0倍)\": 1.0,\n",
    "    \"大きい音 (0.8倍)\": 0.8  # 大きすぎないように\n",
    "}\n",
    "\n",
    "for name, volume in volumes.items():\n",
    "    signal = sine_osc.generate(frequency, duration)\n",
    "    signal_with_volume = signal * volume  # 音量調整\n",
    "    \n",
    "    # ファイル保存で音量差を保持\n",
    "    filename = f\"volume_test_{volume:.1f}.wav\"\n",
    "    save_audio(filename, config.sample_rate, signal_with_volume)\n",
    "    print(f\"📁 保存: {filename} (振幅: {np.max(np.abs(signal_with_volume)):.3f})\")\n",
    "    \n",
    "    audio_player = play_sound(signal_with_volume, config.sample_rate, f\"{name} - 振幅: {volume}\")\n",
    "    display(audio_player)\n",
    "\n",
    "print(\"\\n💡 ポイント:\")\n",
    "print(\"・音量は波の振幅（高さ）で決まります\")\n",
    "print(\"・実際の音楽制作では正確な音量管理が重要です\")"
   ]
  },
  {
   "cell_type": "markdown",
   "id": "516122eb",
   "metadata": {},
   "source": [
    "## 🎯 実習4: 音名と周波数の関係"
   ]
  },
  {
   "cell_type": "code",
   "execution_count": null,
   "id": "2af9232a",
   "metadata": {},
   "outputs": [],
   "source": [
    "from audio_lib.synthesis import note_to_frequency, note_name_to_number\n",
    "\n",
    "# 音名から周波数を調べよう\n",
    "note_names = ['C4', 'D4', 'E4', 'F4', 'G4', 'A4', 'B4', 'C5']\n",
    "japanese_names = ['ド', 'レ', 'ミ', 'ファ', 'ソ', 'ラ', 'シ', 'ド']\n",
    "\n",
    "print(\"🎹 音名と周波数の対応表:\")\n",
    "print(\"音名\\t日本名\\tMIDI番号\\t周波数(Hz)\")\n",
    "print(\"-\" * 40)\n",
    "\n",
    "for note, japanese in zip(note_names, japanese_names):\n",
    "    midi_number = note_name_to_number(note)\n",
    "    frequency = note_to_frequency(midi_number)\n",
    "    print(f\"{note}\\t{japanese}\\t{midi_number}\\t{frequency:.1f}\")"
   ]
  },
  {
   "cell_type": "code",
   "execution_count": null,
   "id": "61b42ed4",
   "metadata": {},
   "outputs": [],
   "source": [
    "# ドレミファソラシドを演奏しよう\n",
    "print(\"🎵 ドレミファソラシドを演奏します！\")\n",
    "\n",
    "note_duration = 0.6  # 各音0.6秒\n",
    "\n",
    "for i, (note, japanese) in enumerate(zip(note_names, japanese_names)):\n",
    "    print(f\"♪ {japanese} ({note})\")\n",
    "    \n",
    "    # 音名をMIDI番号に変換\n",
    "    midi_number = note_name_to_number(note)\n",
    "    # MIDI番号を周波数に変換\n",
    "    frequency = note_to_frequency(midi_number)\n",
    "    \n",
    "    # サイン波を生成\n",
    "    signal = sine_osc.generate(frequency, note_duration)\n",
    "    audio = Audio(signal, rate=config.sample_rate)\n",
    "    display(audio)\n",
    "\n",
    "print(\"\\n🎉 これで基本的なスケール（音階）の完成です！\")"
   ]
  },
  {
   "cell_type": "markdown",
   "id": "a9400468",
   "metadata": {},
   "source": [
    "## 🏆 チャレンジ課題\n",
    "\n",
    "以下の課題に挑戦してみましょう！"
   ]
  },
  {
   "cell_type": "code",
   "execution_count": null,
   "id": "c58954f3",
   "metadata": {},
   "outputs": [],
   "source": [
    "# チャレンジ1: 好きな周波数の音を作ってみよう\n",
    "# ヒント: 200～2000Hzの範囲で試してみてください\n",
    "\n",
    "my_frequency = 500  # ここを変更してください\n",
    "my_duration = 2.0   # ここを変更してください\n",
    "\n",
    "my_signal = sine_osc.generate(my_frequency, my_duration)\n",
    "my_audio = Audio(my_signal, rate=config.sample_rate)\n",
    "\n",
    "print(f\"🎵 あなたの音: {my_frequency}Hz, {my_duration}秒\")\n",
    "display(my_audio)"
   ]
  },
  {
   "cell_type": "code",
   "execution_count": null,
   "id": "4ea72152",
   "metadata": {},
   "outputs": [],
   "source": [
    "# チャレンジ2: 2つの音を同時に鳴らしてみよう\n",
    "# これを「和音」と言います\n",
    "\n",
    "freq1 = 440   # ラ音\n",
    "freq2 = 554   # C#音（ラとハーモニーが美しい）\n",
    "duration = 2.0\n",
    "\n",
    "# 2つのサイン波を生成\n",
    "signal1 = sine_osc.generate(freq1, duration)\n",
    "signal2 = sine_osc.generate(freq2, duration)\n",
    "\n",
    "# 2つの音を重ね合わせ\n",
    "harmony = signal1 + signal2\n",
    "# 音量を調整（2つ重ねると大きくなるため）\n",
    "harmony = harmony * 0.5\n",
    "\n",
    "print(f\"🎵 和音: {freq1}Hz + {freq2}Hz\")\n",
    "harmony_audio = Audio(harmony, rate=config.sample_rate)\n",
    "display(harmony_audio)\n",
    "\n",
    "print(\"💡 2つの音が同時に聞こえて、豊かな響きになりましたね！\")"
   ]
  },
  {
   "cell_type": "markdown",
   "id": "35d0e170",
   "metadata": {},
   "source": [
    "## 📚 今日のまとめ\n",
    "\n",
    "### 学んだこと\n",
    "1. **音の正体**: 空気の振動、波として表現\n",
    "2. **サイン波**: 最も基本的な音の波形\n",
    "3. **周波数**: 音程を決める重要な要素\n",
    "4. **振幅**: 音量を決める要素\n",
    "5. **音名**: C4、D4などの音楽的な表現\n",
    "6. **和音**: 複数の音を同時に鳴らす\n",
    "\n",
    "### 使ったライブラリ\n",
    "- `AudioConfig`: 音の設定\n",
    "- `SineWave`: サイン波の生成\n",
    "- `note_to_frequency`: 音名→周波数の変換\n",
    "\n",
    "### 次回予告\n",
    "次回は「**エンベロープ**」を学びます。\n",
    "音が時間とともにどう変化するかをコントロールして、より自然で楽器らしい音を作ります！\n",
    "\n",
    "---\n",
    "**お疲れさまでした！** 🎉"
   ]
  }
 ],
 "metadata": {
  "kernelspec": {
   "display_name": "simple-audio-programming-zUlWXoPV-py3.13",
   "language": "python",
   "name": "python3"
  },
  "language_info": {
   "codemirror_mode": {
    "name": "ipython",
    "version": 3
   },
   "file_extension": ".py",
   "mimetype": "text/x-python",
   "name": "python",
   "nbconvert_exporter": "python",
   "pygments_lexer": "ipython3",
   "version": "3.13.5"
  }
 },
 "nbformat": 4,
 "nbformat_minor": 5
}
